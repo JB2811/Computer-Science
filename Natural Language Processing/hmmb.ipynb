{
 "cells": [
  {
   "cell_type": "code",
   "execution_count": 1,
   "metadata": {},
   "outputs": [],
   "source": [
    "states=[]\n",
    "inpr=[]\n",
    "stpr=[]\n",
    "ob=[]\n",
    "obpr=[]"
   ]
  },
  {
   "cell_type": "code",
   "execution_count": 2,
   "metadata": {},
   "outputs": [],
   "source": [
    "n=int(input(\"\\nEnter no' of states: \"))\n",
    "for i in range(n):\n",
    " states.append(input(f\"\\nEnter state {i+1} :\"))\n",
    " inpr.append(float(input(f\"\\nEnter initial probability of state {i+1} :\"))) "
   ]
  },
  {
   "cell_type": "code",
   "execution_count": 3,
   "metadata": {},
   "outputs": [],
   "source": [
    "for i in range(n):\n",
    " s=[]\n",
    " for j in range(n):\n",
    "  sp=float(input(f\"Enter state probability from {states[i]} to {states[j]}: \"))\n",
    "  s.append(sp)\n",
    " stpr.append(s)"
   ]
  },
  {
   "cell_type": "code",
   "execution_count": 4,
   "metadata": {},
   "outputs": [],
   "source": [
    "nop=int(input(\"\\nEnter no' of observations: \"))"
   ]
  },
  {
   "cell_type": "code",
   "execution_count": 5,
   "metadata": {},
   "outputs": [],
   "source": [
    "for i in range(nop):\n",
    " ob.append(input(f\"\\nEnter the observation {i+1} : \"))"
   ]
  },
  {
   "cell_type": "code",
   "execution_count": 6,
   "metadata": {},
   "outputs": [],
   "source": [
    "for i in range(n):\n",
    " o=[]\n",
    " for j in range(nop):\n",
    "  o.append(float(input(f\"\\nEnter probability of getting {ob[j]} from {states[i]} : \")))\n",
    " obpr.append(o)"
   ]
  },
  {
   "cell_type": "code",
   "execution_count": 7,
   "metadata": {},
   "outputs": [],
   "source": [
    "beta=[]\n",
    "i=0\n",
    "for i in range(len(ob)+1):\n",
    " beta.append([0,0])\n",
    "beta[len(ob)][0]=1.0\n",
    "beta[len(ob)][1]=1.0\n",
    "\n",
    "for i in range(len(ob)-1,-1,-1):\n",
    " beta[i][0]=float(float(stpr[0][0]*obpr[0][i]*beta[i+1][0])+float(stpr[0][1]*obpr[0][i]*beta[i+1][1]))\n",
    " beta[i][1]=float(float(stpr[1][1]*obpr[1][i]*beta[i+1][1])+float(stpr[1][0]*obpr[1][i]*beta[i+1][0]))"
   ]
  },
  {
   "cell_type": "code",
   "execution_count": 8,
   "metadata": {},
   "outputs": [
    {
     "name": "stdout",
     "output_type": "stream",
     "text": [
      "[[0.01575, 0.0504], [0.12000000000000001, 0.03], [0.3, 0.3], [1.0, 1.0]]\n",
      "\n",
      "Probability of whole sequence :  0.033075\n"
     ]
    }
   ],
   "source": [
    "print(beta)\n",
    "print(\"\\nProbability of whole sequence : \",beta[0][0]*inpr[0]+beta[0][1]*inpr[1])"
   ]
  },
  {
   "cell_type": "code",
   "execution_count": null,
   "metadata": {},
   "outputs": [],
   "source": []
  }
 ],
 "metadata": {
  "kernelspec": {
   "display_name": "Python 3",
   "language": "python",
   "name": "python3"
  },
  "language_info": {
   "codemirror_mode": {
    "name": "ipython",
    "version": 3
   },
   "file_extension": ".py",
   "mimetype": "text/x-python",
   "name": "python",
   "nbconvert_exporter": "python",
   "pygments_lexer": "ipython3",
   "version": "3.11.1"
  }
 },
 "nbformat": 4,
 "nbformat_minor": 2
}
