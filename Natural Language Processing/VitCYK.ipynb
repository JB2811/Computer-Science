{
 "cells": [
  {
   "cell_type": "code",
   "execution_count": 5,
   "metadata": {},
   "outputs": [],
   "source": [
    "import nltk\n",
    "from nltk.tree import *\n",
    "from nltk.draw import tree"
   ]
  },
  {
   "cell_type": "code",
   "execution_count": 6,
   "metadata": {},
   "outputs": [],
   "source": [
    "grammar=nltk.PCFG.fromstring(\"\"\"\n",
    "S -> NP VP [1.0]\n",
    "PP -> P NP [1.0]\n",
    "NP -> Det N [0.4]\n",
    "NP -> Det N PP [0.2]\n",
    "NP -> 'I' [0.4]\n",
    "VP -> V NP [0.5]\n",
    "VP -> VP PP [0.5]\n",
    "Det -> 'an' [0.5]\n",
    "Det -> 'my' [0.5]\n",
    "N -> 'elephant' [0.5]\n",
    "N -> 'pajamas' [0.5]\n",
    "V -> 'saw' [1.0]\n",
    "P -> 'in' [1.0]\n",
    "\"\"\")"
   ]
  },
  {
   "cell_type": "code",
   "execution_count": 15,
   "metadata": {},
   "outputs": [],
   "source": [
    "s1=\"I saw an elephant\"\n",
    "s2=\"I saw an elephant in my pajamas\""
   ]
  },
  {
   "cell_type": "code",
   "execution_count": 16,
   "metadata": {},
   "outputs": [],
   "source": [
    "tokens1=nltk.word_tokenize(s1)\n",
    "tokens2=nltk.word_tokenize(s2)"
   ]
  },
  {
   "cell_type": "code",
   "execution_count": 17,
   "metadata": {},
   "outputs": [],
   "source": [
    "chart_parser=nltk.ChartParser(grammar)\n",
    "viterbi_parser=nltk.ViterbiParser(grammar)"
   ]
  },
  {
   "cell_type": "code",
   "execution_count": 18,
   "metadata": {},
   "outputs": [
    {
     "name": "stdout",
     "output_type": "stream",
     "text": [
      "\n",
      "results obtained with Chart Parser\n",
      "Sentence 1\n",
      "(S (NP I) (VP (V saw) (NP (Det an) (N elephant))))\n"
     ]
    }
   ],
   "source": [
    "print(\"\\nresults obtained with Chart Parser\")\n",
    "print(\"Sentence 1\")\n",
    "for tree in chart_parser.parse(tokens1):\n",
    " print(tree)\n",
    " tree.draw()"
   ]
  },
  {
   "cell_type": "code",
   "execution_count": 19,
   "metadata": {},
   "outputs": [
    {
     "name": "stdout",
     "output_type": "stream",
     "text": [
      "Sentence 2\n",
      "(S\n",
      "  (NP I)\n",
      "  (VP\n",
      "    (VP (V saw) (NP (Det an) (N elephant)))\n",
      "    (PP (P in) (NP (Det my) (N pajamas)))))\n",
      "(S\n",
      "  (NP I)\n",
      "  (VP\n",
      "    (V saw)\n",
      "    (NP (Det an) (N elephant) (PP (P in) (NP (Det my) (N pajamas))))))\n"
     ]
    }
   ],
   "source": [
    "print(\"Sentence 2\")\n",
    "for tree in chart_parser.parse(tokens2):\n",
    " print(tree)\n",
    " tree.draw()"
   ]
  },
  {
   "cell_type": "code",
   "execution_count": 20,
   "metadata": {},
   "outputs": [
    {
     "name": "stdout",
     "output_type": "stream",
     "text": [
      "Parse trees obtained with the Viterbi parser\n",
      "sentence 1\n",
      "(S (NP I) (VP (V saw) (NP (Det an) (N elephant)))) (p=0.02)\n"
     ]
    }
   ],
   "source": [
    "print(\"Parse trees obtained with the Viterbi parser\")\n",
    "print(\"sentence 1\")\n",
    "for tree in viterbi_parser.parse(tokens1):\n",
    "  print(tree)\n",
    "  tree.draw()"
   ]
  },
  {
   "cell_type": "code",
   "execution_count": 21,
   "metadata": {},
   "outputs": [
    {
     "name": "stdout",
     "output_type": "stream",
     "text": [
      "sentence 2\n",
      "(S\n",
      "  (NP I)\n",
      "  (VP\n",
      "    (V saw)\n",
      "    (NP\n",
      "      (Det an)\n",
      "      (N elephant)\n",
      "      (PP (P in) (NP (Det my) (N pajamas)))))) (p=0.001)\n"
     ]
    }
   ],
   "source": [
    "print(\"sentence 2\")\n",
    "for tree in viterbi_parser.parse(tokens2):\n",
    " print(tree)\n",
    " tree.draw()"
   ]
  },
  {
   "cell_type": "code",
   "execution_count": null,
   "metadata": {},
   "outputs": [],
   "source": []
  }
 ],
 "metadata": {
  "kernelspec": {
   "display_name": "Python 3",
   "language": "python",
   "name": "python3"
  },
  "language_info": {
   "codemirror_mode": {
    "name": "ipython",
    "version": 3
   },
   "file_extension": ".py",
   "mimetype": "text/x-python",
   "name": "python",
   "nbconvert_exporter": "python",
   "pygments_lexer": "ipython3",
   "version": "3.7.3"
  }
 },
 "nbformat": 4,
 "nbformat_minor": 2
}
