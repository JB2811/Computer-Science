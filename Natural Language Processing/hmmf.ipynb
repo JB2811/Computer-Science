{
 "cells": [
  {
   "cell_type": "code",
   "execution_count": 20,
   "metadata": {},
   "outputs": [],
   "source": [
    "states=[]\n",
    "inpr=[]\n",
    "stpr=[]\n",
    "ob=[]\n",
    "obpr=[]"
   ]
  },
  {
   "cell_type": "code",
   "execution_count": 21,
   "metadata": {},
   "outputs": [
    {
     "name": "stdout",
     "output_type": "stream",
     "text": [
      "\n",
      "Enter no' of states: 2\n",
      "\n",
      "Enter state 1 :cp\n",
      "\n",
      "Enter initial probability of state 1 :0.5\n",
      "\n",
      "Enter state 2 :ip\n",
      "\n",
      "Enter initial probability of state 2 :0.5\n"
     ]
    }
   ],
   "source": [
    "n=int(input(\"\\nEnter no' of states: \"))\n",
    "for i in range(n):\n",
    " states.append(input(f\"\\nEnter state {i+1} :\"))\n",
    " inpr.append(float(input(f\"\\nEnter initial probability of state {i+1} :\"))) "
   ]
  },
  {
   "cell_type": "code",
   "execution_count": 22,
   "metadata": {},
   "outputs": [
    {
     "name": "stdout",
     "output_type": "stream",
     "text": [
      "Enter state probability from cp to cp: 0.25\n",
      "Enter state probability from cp to ip: 0.75\n",
      "Enter state probability from ip to cp: 0.6\n",
      "Enter state probability from ip to ip: 0.4\n"
     ]
    }
   ],
   "source": [
    "for i in range(n):\n",
    " s=[]\n",
    " for j in range(n):\n",
    "  sp=float(input(f\"Enter state probability from {states[i]} to {states[j]}: \"))\n",
    "  s.append(sp)\n",
    " stpr.append(s)"
   ]
  },
  {
   "cell_type": "code",
   "execution_count": 23,
   "metadata": {},
   "outputs": [
    {
     "name": "stdout",
     "output_type": "stream",
     "text": [
      "\n",
      "Enter no' of observations: 3\n"
     ]
    }
   ],
   "source": [
    "nop=int(input(\"\\nEnter no' of observations: \"))"
   ]
  },
  {
   "cell_type": "code",
   "execution_count": 24,
   "metadata": {},
   "outputs": [
    {
     "name": "stdout",
     "output_type": "stream",
     "text": [
      "\n",
      "Enter the observation 1 : ice\n",
      "\n",
      "Enter the observation 2 : lem\n",
      "\n",
      "Enter the observation 3 : cola\n"
     ]
    }
   ],
   "source": [
    "for i in range(nop):\n",
    " ob.append(input(f\"\\nEnter the observation {i+1} : \"))"
   ]
  },
  {
   "cell_type": "code",
   "execution_count": 25,
   "metadata": {},
   "outputs": [
    {
     "name": "stdout",
     "output_type": "stream",
     "text": [
      "\n",
      "Enter probability of getting ice from cp : 0.3\n",
      "\n",
      "Enter probability of getting lem from cp : 0.4\n",
      "\n",
      "Enter probability of getting cola from cp : 0.3\n",
      "\n",
      "Enter probability of getting ice from ip : 0.6\n",
      "\n",
      "Enter probability of getting lem from ip : 0.1\n",
      "\n",
      "Enter probability of getting cola from ip : 0.3\n"
     ]
    }
   ],
   "source": [
    "for i in range(n):\n",
    " o=[]\n",
    " for j in range(nop):\n",
    "  o.append(float(input(f\"\\nEnter probability of getting {ob[j]} from {states[i]} : \")))\n",
    " obpr.append(o)"
   ]
  },
  {
   "cell_type": "code",
   "execution_count": 26,
   "metadata": {},
   "outputs": [],
   "source": [
    "alpha=[]\n",
    "i=0\n",
    "for i in range(len(ob)+1):\n",
    " alpha.append([0,0])\n",
    "for i in range(len(alpha)):\n",
    " if i==0:\n",
    "  alpha[i][0]=inpr[0]\n",
    "  alpha[i][1]=inpr[1]\n",
    "  continue\n",
    " alpha[i][0]=float(float(stpr[0][0]*obpr[0][i-1]*alpha[i-1][0])+float(stpr[1][0]*obpr[1][i-1]*alpha[i-1][1]))\n",
    " alpha[i][1]=float(float(stpr[1][1]*obpr[1][i-1]*alpha[i-1][1])+float(stpr[0][1]*obpr[0][i-1]*alpha[i-1][0]))"
   ]
  },
  {
   "cell_type": "code",
   "execution_count": 27,
   "metadata": {},
   "outputs": [
    {
     "name": "stdout",
     "output_type": "stream",
     "text": [
      "[0.5, 0.5]\n",
      "[0.2175, 0.23249999999999998]\n",
      "[0.0357, 0.07455]\n",
      "[0.0160965, 0.0169785]\n",
      "\n",
      "Probability of whole sequence :  0.033075\n"
     ]
    }
   ],
   "source": [
    "pos_alpha=0.0\n",
    "for i in alpha:\n",
    " pos_alpha=sum(i)\n",
    " print(i)\n",
    "print(\"\\nProbability of whole sequence : \",pos_alpha)"
   ]
  },
  {
   "cell_type": "code",
   "execution_count": null,
   "metadata": {},
   "outputs": [],
   "source": []
  }
 ],
 "metadata": {
  "kernelspec": {
   "display_name": "Python 3",
   "language": "python",
   "name": "python3"
  },
  "language_info": {
   "codemirror_mode": {
    "name": "ipython",
    "version": 3
   },
   "file_extension": ".py",
   "mimetype": "text/x-python",
   "name": "python",
   "nbconvert_exporter": "python",
   "pygments_lexer": "ipython3",
   "version": "3.7.3"
  }
 },
 "nbformat": 4,
 "nbformat_minor": 2
}
