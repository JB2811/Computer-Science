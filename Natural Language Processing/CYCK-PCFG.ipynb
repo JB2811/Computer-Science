{
 "cells": [
  {
   "cell_type": "code",
   "execution_count": 41,
   "metadata": {},
   "outputs": [],
   "source": [
    "pcfg_rules={\n",
    "    'S':(1.0,['NP','VP']),\n",
    "    'NP':(0.7,['Det','N']),\n",
    "    'VP':(0.8,['V','NP']),\n",
    "    'Det':(1.0,['the']),\n",
    "    'N':(0.6,['cat','dog']),\n",
    "    'V':(0.9,['chased'])\n",
    "}"
   ]
  },
  {
   "cell_type": "code",
   "execution_count": 46,
   "metadata": {},
   "outputs": [],
   "source": [
    "words=['the','cat','chased','the','dog']\n",
    "table=cyk_algorithm(words,pcfg_rules)"
   ]
  },
  {
   "cell_type": "code",
   "execution_count": 47,
   "metadata": {},
   "outputs": [],
   "source": [
    "\n",
    "\n",
    "from collections import defaultdict\n",
    "from itertools import product\n",
    "\n",
    "def cyk(words,pcfg_rules):\n",
    " n=len(words)\n",
    " table=[[defaultdict(float) for i in range(n)] for j in range(n)]\n",
    "\n",
    " for i,w in enumerate(words):\n",
    "  for j,k in pcfg_rules.items():\n",
    "   if w in k[1]:\n",
    "    table[i][i][j]=k[0]\n",
    " p=0\n",
    " for l in range(2,n+1):\n",
    "  for i in range(n-l+1):\n",
    "   j=i+l-1\n",
    "   for k in range(i,j):\n",
    "    for S,(p,pr) in pcfg_rules.items():\n",
    "     if(pr[0] in table[i][k] and pr[1] in table[k+1][j]):\n",
    "      print(i,j,k,S)\n",
    "      table[i][j][S]=table[i][k][pr[0]]*table[k+1][j][pr[1]]*p \n",
    " return table\n"
   ]
  },
  {
   "cell_type": "code",
   "execution_count": 48,
   "metadata": {},
   "outputs": [],
   "source": [
    "inside_probabilities=table[0][-1]"
   ]
  },
  {
   "cell_type": "code",
   "execution_count": 50,
   "metadata": {},
   "outputs": [
    {
     "name": "stdout",
     "output_type": "stream",
     "text": [
      "Inside probability of S: 21.400000000000002\n",
      "Inside probability of NP: 18.479999999999997\n",
      "Inside probability of VP: 17.120000000000005\n",
      "Inside probability of Det: 0.0\n",
      "Inside probability of N: 0.0\n",
      "Inside probability of V: 0.0\n"
     ]
    }
   ],
   "source": [
    "for nt,prob in inside_probabilities.items():\n",
    "    print(f'Inside probability of {nt}: {prob}')"
   ]
  },
  {
   "cell_type": "code",
   "execution_count": 52,
   "metadata": {},
   "outputs": [
    {
     "name": "stdout",
     "output_type": "stream",
     "text": [
      "Total inside probability: 21.400000000000002\n"
     ]
    }
   ],
   "source": [
    "total_probability=inside_probabilities['S']\n",
    "print(f'Total inside probability: {total_probability}')"
   ]
  },
  {
   "cell_type": "code",
   "execution_count": null,
   "metadata": {},
   "outputs": [],
   "source": []
  }
 ],
 "metadata": {
  "kernelspec": {
   "display_name": "Python 3",
   "language": "python",
   "name": "python3"
  },
  "language_info": {
   "codemirror_mode": {
    "name": "ipython",
    "version": 3
   },
   "file_extension": ".py",
   "mimetype": "text/x-python",
   "name": "python",
   "nbconvert_exporter": "python",
   "pygments_lexer": "ipython3",
   "version": "3.7.3"
  }
 },
 "nbformat": 4,
 "nbformat_minor": 2
}
