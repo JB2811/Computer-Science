{
 "cells": [
  {
   "cell_type": "code",
   "execution_count": 1,
   "metadata": {},
   "outputs": [],
   "source": [
    "import nltk\n",
    "from nltk.collocations import *\n",
    "from nltk.tokenize import word_tokenize\n",
    "from nltk.corpus import stopwords\n",
    "import string\n",
    "import math\n",
    "from nltk.stem import PorterStemmer"
   ]
  },
  {
   "cell_type": "code",
   "execution_count": 2,
   "metadata": {},
   "outputs": [
    {
     "name": "stdout",
     "output_type": "stream",
     "text": [
      "{'financi': [['went', 'bank', 'withdraw', 'money', 'financi', 'deposit', 'amount', 'rs.12000', 'account', 'got', 'loan'], [1, 3, 1, 1, 3, 1, 1, 1, 1, 1, 1]], 'river': [['play', 'bank', 'river', 'saw', 'boat', 'peopl', 'pray'], [1, 3, 3, 1, 1, 1, 1]]}\n",
      "\n",
      " {'went': [0.09090909090909091, 0], 'bank': [0.18181818181818182, 0.18181818181818182], 'withdraw': [0.09090909090909091, 0], 'money': [0.09090909090909091, 0], 'financi': [0.18181818181818182, 0], 'deposit': [0.09090909090909091, 0], 'amount': [0.09090909090909091, 0], 'rs.12000': [0.09090909090909091, 0], 'account': [0.09090909090909091, 0], 'play': [0, 0.09090909090909091], 'river': [0, 0.18181818181818182], 'saw': [0, 0.09090909090909091], 'boat': [0, 0.09090909090909091], 'peopl': [0, 0.09090909090909091], 'pray': [0, 0.09090909090909091], 'got': [0.09090909090909091, 0], 'loan': [0.09090909090909091, 0]}\n",
      "\n",
      "Sentence  ['went', 'bank', 'withdraw', 'money', 'financi']  belongs to financial sense.\n",
      "\n",
      "Sentence  ['deposit', 'amount', 'rs.12000', 'bank', 'account', 'financi']  belongs to financial sense.\n",
      "\n",
      "Sentence  ['play', 'bank', 'river']  belongs to river sense.\n",
      "\n",
      "Sentence  ['saw', 'boat', 'bank', 'river']  belongs to river sense.\n",
      "\n",
      "Sentence  ['peopl', 'pray', 'bank', 'river']  belongs to river sense.\n",
      "\n",
      "Sentence  ['got', 'loan', 'bank', 'financi']  belongs to financial sense.\n"
     ]
    }
   ],
   "source": [
    "text=open('bank.txt','r').read().lower()\n",
    "\n",
    "text=text.split('\\n')\n",
    "\n",
    "for i in range(len(text)):\n",
    " text[i]=word_tokenize(text[i])\n",
    "\n",
    "sw=set(stopwords.words('english'))\n",
    "stemmer=PorterStemmer()\n",
    "\n",
    "text1=[]\n",
    "vocab=[]\n",
    "for i in range(len(text)):\n",
    " text1.append(0)\n",
    " text1[i]=[]\n",
    " for j in text[i]:\n",
    "  if j in sw:\n",
    "   pass\n",
    "  else:\n",
    "   text1[i].append(stemmer.stem(j))\n",
    "   if j not in vocab:\n",
    "    vocab.append(stemmer.stem(j))\n",
    "\n",
    "v=len(vocab)\n",
    "d={'financi':[[],[]],'river':[[],[]]}\n",
    "f=0; r=0\n",
    "for i in range(len(text1)):\n",
    " if 'financi' in text1[i]: \n",
    "  for j in text1[i]:\n",
    "   if j not in d['financi'][0]:\n",
    "    d['financi'][0].append(j)\n",
    "    d['financi'][1].append(1)\n",
    "   else:\n",
    "    d['financi'][1][d['financi'][0].index(j)]+=1\n",
    "  f+=1\n",
    " else: \n",
    "  for j in text1[i]:\n",
    "   if j not in d['river'][0]:\n",
    "    d['river'][0].append(j)\n",
    "    d['river'][1].append(1)\n",
    "   else:\n",
    "    d['river'][1][d['river'][0].index(j)]+=1\n",
    "  r+=1\n",
    " \n",
    "print(d)\n",
    "res={}\n",
    "for i in vocab:\n",
    " pf=0; pr=0\n",
    " if i in d['financi'][0]:\n",
    "  pf=((d['financi'][1][d['financi'][0].index(i)]+1)/(f+v))\n",
    " if i in d['river'][0]:\n",
    "  pr=((d['river'][1][d['river'][0].index(i)]+1)/(r+v))\n",
    " res.update({i:[pf,pr]})\n",
    "\n",
    "print(\"\\n\",res)\n",
    "\n",
    "for i in text1:\n",
    " sf=0\n",
    " sr=0\n",
    " for j in i:\n",
    "  sf+=res[j][0]\n",
    "  sr+=res[j][1]\n",
    " if(sf>sr):\n",
    "  print(\"\\nSentence \",i,\" belongs to financial sense.\")\n",
    " else:\n",
    "  print(\"\\nSentence \",i,\" belongs to river sense.\")"
   ]
  },
  {
   "cell_type": "code",
   "execution_count": 7,
   "metadata": {},
   "outputs": [
    {
     "name": "stdout",
     "output_type": "stream",
     "text": [
      "\n",
      "Enter a sentence: I went to the bank along the river to get a loan\n",
      "0.36363636363636365 0.36363636363636365\n",
      "\n",
      "Sentence has both financial and river sense.\n"
     ]
    }
   ],
   "source": [
    "test=input(\"\\nEnter a sentence: \")\n",
    "test=word_tokenize(test)\n",
    "test1=[]\n",
    "for i in test: \n",
    " if i in sw:\n",
    "  pass\n",
    " else:\n",
    "  test1.append(stemmer.stem(i))\n",
    "sf=0\n",
    "sr=0\n",
    "for i in test1:\n",
    " if(i in res.keys()):\n",
    "  sf+=res[i][0]\n",
    "  sr+=res[i][1]\n",
    "print(sf,sr)\n",
    "if(sf>sr):\n",
    " print(\"\\nSentence belongs to financial sense.\")\n",
    "elif(sf<sr):\n",
    " print(\"\\nSentence belongs to river sense.\")\n",
    "else:\n",
    " print(\"\\nSentence has both financial and river sense.\") "
   ]
  },
  {
   "cell_type": "code",
   "execution_count": null,
   "metadata": {},
   "outputs": [],
   "source": []
  }
 ],
 "metadata": {
  "kernelspec": {
   "display_name": "Python 3",
   "language": "python",
   "name": "python3"
  },
  "language_info": {
   "codemirror_mode": {
    "name": "ipython",
    "version": 3
   },
   "file_extension": ".py",
   "mimetype": "text/x-python",
   "name": "python",
   "nbconvert_exporter": "python",
   "pygments_lexer": "ipython3",
   "version": "3.7.3"
  }
 },
 "nbformat": 4,
 "nbformat_minor": 2
}
