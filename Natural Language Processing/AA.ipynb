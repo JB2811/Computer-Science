{
 "cells": [
  {
   "cell_type": "code",
   "execution_count": 12,
   "metadata": {},
   "outputs": [],
   "source": [
    "from nltk.tokenize import word_tokenize\n",
    "import math\n",
    "from nltk import bigrams"
   ]
  },
  {
   "cell_type": "code",
   "execution_count": 13,
   "metadata": {},
   "outputs": [
    {
     "name": "stdout",
     "output_type": "stream",
     "text": [
      "{'children': 6, 'eat': 6, 'the': 5, 'cake': 6, 'with': 5, 'a': 1, 'spoon': 1, 'iceing': 1, 'sweet': 1, 'their': 1, 'hand': 1} \n",
      " {('children', 'eat'): 6, ('eat', 'the'): 5, ('the', 'cake'): 5, ('cake', 'with'): 4, ('with', 'a'): 1, ('a', 'spoon'): 1, ('spoon', 'children'): 1, ('cake', 'children'): 1, ('with', 'iceing'): 1, ('iceing', 'children'): 1, ('with', 'sweet'): 1, ('sweet', 'children'): 1, ('with', 'their'): 1, ('their', 'hand'): 1, ('hand', 'children'): 1, ('eat', 'with'): 1, ('with', 'cake'): 1}\n"
     ]
    }
   ],
   "source": [
    "f=open('child.txt','r')\n",
    "f=f.read().lower()\n",
    "t=word_tokenize(f)\n",
    "\n",
    "v={}\n",
    "for i in t:\n",
    " if i not in v.keys():\n",
    "  v.update({i:t.count(i)})\n",
    "\n",
    "brams=list(bigrams(t))\n",
    "\n",
    "bv={}\n",
    "for i in brams:\n",
    " if i not in bv.keys():\n",
    "  bv.update({i:brams.count(i)})\n",
    "\n",
    "print(v,\"\\n\",bv)"
   ]
  },
  {
   "cell_type": "code",
   "execution_count": 14,
   "metadata": {},
   "outputs": [
    {
     "name": "stdout",
     "output_type": "stream",
     "text": [
      "\n",
      "enter noun: cake\n",
      "\n",
      "enter verb: eat\n",
      "\n",
      "enter preposition: with\n"
     ]
    }
   ],
   "source": [
    "noun=input(\"\\nenter noun: \")\n",
    "verb=input(\"\\nenter verb: \")\n",
    "prep=input(\"\\nenter preposition: \")"
   ]
  },
  {
   "cell_type": "code",
   "execution_count": 17,
   "metadata": {},
   "outputs": [
    {
     "name": "stdout",
     "output_type": "stream",
     "text": [
      "6 6 1 0\n"
     ]
    }
   ],
   "source": [
    "nn=v.get(noun,0)\n",
    "nv=v.get(verb,0)\n",
    "pn=bv.get((prep,noun),0)\n",
    "pv=bv.get((prep,verb),0)\n",
    "print(nn,nv,pn,pv)"
   ]
  },
  {
   "cell_type": "code",
   "execution_count": 19,
   "metadata": {},
   "outputs": [
    {
     "name": "stdout",
     "output_type": "stream",
     "text": [
      "0.16666666666666666 0.0\n",
      "-1\n",
      "\n",
      "preposition is attached with noun.\n"
     ]
    }
   ],
   "source": [
    "prv=pv/nv if nv>0 else 0\n",
    "prn=pn/nn if nn>0 else 0\n",
    "\n",
    "print(prn,prv)\n",
    "\n",
    "if(prn>0 and prv>0):\n",
    " lmda=math.log((prv*(1-prn))/prn,2)\n",
    "else:\n",
    " if(prn>0):\n",
    "  lmda=-1\n",
    " elif(prv>0):\n",
    "  lmda=1\n",
    " else:\n",
    "  lmda=0\n",
    "print(lmda)\n",
    "\n",
    "if(lmda>0):\n",
    " print(\"\\npreposition is attached with verb.\")\n",
    "elif(lmda<0):\n",
    " print(\"\\npreposition is attached with noun.\")\n",
    "else:\n",
    " print(\"\\npreposition attachment can't be determined.\")"
   ]
  },
  {
   "cell_type": "code",
   "execution_count": null,
   "metadata": {},
   "outputs": [],
   "source": []
  }
 ],
 "metadata": {
  "kernelspec": {
   "display_name": "Python 3",
   "language": "python",
   "name": "python3"
  },
  "language_info": {
   "codemirror_mode": {
    "name": "ipython",
    "version": 3
   },
   "file_extension": ".py",
   "mimetype": "text/x-python",
   "name": "python",
   "nbconvert_exporter": "python",
   "pygments_lexer": "ipython3",
   "version": "3.7.3"
  }
 },
 "nbformat": 4,
 "nbformat_minor": 2
}
